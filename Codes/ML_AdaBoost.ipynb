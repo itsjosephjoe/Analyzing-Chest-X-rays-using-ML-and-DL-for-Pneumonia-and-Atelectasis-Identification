{
 "cells": [
  {
   "cell_type": "code",
   "execution_count": null,
   "metadata": {},
   "outputs": [],
   "source": [
    "import os\n",
    "import cv2\n",
    "import numpy as np\n",
    "import matplotlib.pyplot as plt\n",
    "from sklearn.model_selection import train_test_split\n",
    "from sklearn.tree import DecisionTreeClassifier\n",
    "from sklearn.ensemble import AdaBoostClassifier\n",
    "from sklearn.metrics import accuracy_score, confusion_matrix, classification_report\n",
    "import seaborn as sns\n",
    "import random"
   ]
  },
  {
   "cell_type": "code",
   "execution_count": null,
   "metadata": {},
   "outputs": [],
   "source": [
    "# Function to preprocess images and extract features\n",
    "def preprocess_images(directory, condition, target_width, target_height):\n",
    "    images = []\n",
    "    labels = []\n",
    "    for filename in os.listdir(directory):\n",
    "        if filename.lower().endswith(('.jpg', '.jpeg', '.png')):\n",
    "            img_path = os.path.join(directory, filename)\n",
    "            img = cv2.imread(img_path, cv2.IMREAD_GRAYSCALE)\n",
    "            img = cv2.resize(img, (target_width, target_height))\n",
    "            images.append(img.flatten())  # Flatten the image and append to the list\n",
    "            if condition == 'normal':\n",
    "                labels.append(0)\n",
    "            elif condition == 'atelectasis':\n",
    "                labels.append(1)\n",
    "            elif condition == 'pneumonia':\n",
    "                labels.append(2)\n",
    "            else:\n",
    "                raise ValueError(\"Invalid condition specified\")\n",
    "\n",
    "    return images, labels"
   ]
  },
  {
   "cell_type": "code",
   "execution_count": null,
   "metadata": {},
   "outputs": [],
   "source": [
    "# Specify the directories for each condition\n",
    "normal_dir = 'Path to Normal file'\n",
    "atelectasis_dir = 'Path to Atelectasis file'\n",
    "pneumonia_dir = 'Path to Pneumonia file'"
   ]
  },
  {
   "cell_type": "code",
   "execution_count": null,
   "metadata": {},
   "outputs": [],
   "source": [
    "# Specify the target dimensions for resizing\n",
    "target_width = 100\n",
    "target_height = 100"
   ]
  },
  {
   "cell_type": "code",
   "execution_count": null,
   "metadata": {},
   "outputs": [],
   "source": [
    "# Preprocess images and extract features for each condition\n",
    "normal_images, normal_labels = preprocess_images(normal_dir, 'normal', target_width, target_height)\n",
    "atelectasis_images, atelectasis_labels = preprocess_images(atelectasis_dir, 'atelectasis', target_width, target_height)\n",
    "pneumonia_images, pneumonia_labels = preprocess_images(pneumonia_dir, 'pneumonia', target_width, target_height)"
   ]
  },
  {
   "cell_type": "code",
   "execution_count": null,
   "metadata": {},
   "outputs": [],
   "source": [
    "# Combine data from all conditions\n",
    "X = np.array(normal_images + atelectasis_images + pneumonia_images)\n",
    "y = np.array(normal_labels + atelectasis_labels + pneumonia_labels)"
   ]
  },
  {
   "cell_type": "code",
   "execution_count": null,
   "metadata": {},
   "outputs": [],
   "source": [
    "# Splitting data into training and testing sets (70:30 ratio)\n",
    "X_train, X_test, y_train, y_test = train_test_split(X, y, test_size=0.3, random_state=42, stratify=y)"
   ]
  },
  {
   "cell_type": "code",
   "execution_count": null,
   "metadata": {},
   "outputs": [],
   "source": [
    "# Define AdaBoost classifier with Decision Tree as base estimator\n",
    "base_estimator = DecisionTreeClassifier(max_depth=1)\n",
    "adaboost_classifier = AdaBoostClassifier(base_estimator=base_estimator, n_estimators=50, learning_rate=1.0, random_state=42)"
   ]
  },
  {
   "cell_type": "code",
   "execution_count": null,
   "metadata": {},
   "outputs": [],
   "source": [
    "# Train AdaBoost classifier\n",
    "adaboost_classifier.fit(X_train, y_train)"
   ]
  },
  {
   "cell_type": "code",
   "execution_count": null,
   "metadata": {},
   "outputs": [],
   "source": [
    "# Evaluate the classifier\n",
    "y_pred = adaboost_classifier.predict(X_test)\n",
    "accuracy = accuracy_score(y_test, y_pred)\n",
    "print(\"Accuracy:\", accuracy)"
   ]
  },
  {
   "cell_type": "code",
   "execution_count": null,
   "metadata": {},
   "outputs": [],
   "source": [
    "# Generate and print confusion matrix\n",
    "conf_matrix = confusion_matrix(y_test, y_pred)\n",
    "print(\"Confusion Matrix:\")\n",
    "print(conf_matrix)"
   ]
  },
  {
   "cell_type": "code",
   "execution_count": null,
   "metadata": {},
   "outputs": [],
   "source": [
    "# Manually input the confusion matrix values\n",
    "# Replace these values with your actual confusion matrix values\n",
    "conf_matrix_values = np.array('Fill the confusion matrix values printed here')\n",
    "\n",
    "# Labels for the confusion matrix\n",
    "labels = ['Normal', 'Atelectasis', 'Pneumonia']\n",
    "\n",
    "# Plot the confusion matrix\n",
    "plt.figure(figsize=(8, 6))\n",
    "sns.heatmap(conf_matrix_values, annot=True, fmt='d', cmap='Blues',\n",
    "            xticklabels=labels,\n",
    "            yticklabels=labels,\n",
    "            annot_kws={\"size\": 16})  # Set font size for annotations\n",
    "plt.title('Confusion Matrix', fontsize=18)  # Set title font size\n",
    "plt.xlabel('Predicted Label', fontsize=14)  # Set x-axis label font size\n",
    "plt.ylabel('True Label', fontsize=14)  # Set y-axis label font size\n",
    "plt.show()"
   ]
  },
  {
   "cell_type": "code",
   "execution_count": null,
   "metadata": {},
   "outputs": [],
   "source": [
    "# Generate and print classification report\n",
    "class_report = classification_report(y_test, y_pred)\n",
    "print(\"Classification Report:\")\n",
    "print(class_report)"
   ]
  },
  {
   "cell_type": "code",
   "execution_count": null,
   "metadata": {},
   "outputs": [],
   "source": [
    "# Display images along with true and predicted outcomes in a 5x5 matrix\n",
    "num_images = 10\n",
    "fig = plt.figure(figsize=(15, 15))\n",
    "for i in range(num_images):\n",
    "    img = X_test[i].reshape(target_width, target_height)  # Reshape flattened image\n",
    "    true_outcome = ''\n",
    "    if y_test[i] == 0:\n",
    "        true_outcome = 'True Outcome: Normal'\n",
    "    elif y_test[i] == 1:\n",
    "        true_outcome = 'True Outcome: Atelectasis'\n",
    "    else:\n",
    "        true_outcome = 'True Outcome: Pneumonia'\n",
    "\n",
    "    predicted_outcome = ''\n",
    "    if y_pred[i] == 0:\n",
    "        predicted_outcome = 'Predicted Outcome: Normal'\n",
    "    elif y_pred[i] == 1:\n",
    "        predicted_outcome = 'Predicted Outcome: Atelectasis'\n",
    "    else:\n",
    "        predicted_outcome = 'Predicted Outcome: Pneumonia'\n",
    "\n",
    "    ax = fig.add_subplot(5, 5, i+1)\n",
    "    ax.imshow(img, cmap='gray')\n",
    "    ax.set_title(true_outcome + '\\n' + predicted_outcome)\n",
    "    ax.axis('off')\n",
    "\n",
    "plt.tight_layout()\n",
    "plt.show()"
   ]
  }
 ],
 "metadata": {
  "kernelspec": {
   "display_name": "Python 3",
   "language": "python",
   "name": "python3"
  },
  "language_info": {
   "name": "python",
   "version": "3.12.0"
  }
 },
 "nbformat": 4,
 "nbformat_minor": 2
}

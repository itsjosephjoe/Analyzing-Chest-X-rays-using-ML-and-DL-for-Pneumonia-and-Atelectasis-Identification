{
 "cells": [
  {
   "cell_type": "code",
   "execution_count": null,
   "metadata": {},
   "outputs": [],
   "source": [
    "import os\n",
    "import cv2\n",
    "import numpy as np\n",
    "import tensorflow as tf\n",
    "from sklearn.model_selection import train_test_split\n",
    "from sklearn.metrics import accuracy_score, confusion_matrix, classification_report\n",
    "import matplotlib.pyplot as plt\n",
    "import random\n",
    "from tensorflow.keras.applications import DenseNet121\n",
    "from tensorflow.keras.layers import GlobalAveragePooling2D, Dense\n",
    "from tensorflow.keras.models import Model\n",
    "import seaborn as sns"
   ]
  },
  {
   "cell_type": "code",
   "execution_count": null,
   "metadata": {},
   "outputs": [],
   "source": [
    "# Function to preprocess images\n",
    "def preprocess_images(directory, condition, target_size):\n",
    "    images = []\n",
    "    labels = []\n",
    "    for filename in os.listdir(directory):\n",
    "        if filename.lower().endswith(('.jpg', '.jpeg', '.png')):\n",
    "            img_path = os.path.join(directory, filename)\n",
    "            img = cv2.imread(img_path)\n",
    "            img = cv2.cvtColor(img, cv2.COLOR_BGR2RGB)  # Convert image to RGB format\n",
    "            img = cv2.resize(img, target_size)\n",
    "            images.append(img)\n",
    "            labels.append(condition)\n",
    "    return images, labels"
   ]
  },
  {
   "cell_type": "code",
   "execution_count": null,
   "metadata": {},
   "outputs": [],
   "source": [
    "# Specify the directories for each condition\n",
    "normal_dir = 'Path to Normal file'\n",
    "atelectasis_dir = 'Path to Atelectasis file'\n",
    "pneumonia_dir = 'Path to Pneumonia file'\n",
    "\n",
    "# Specify the target size for resizing\n",
    "target_size = (224, 224)  # DenseNet input size"
   ]
  },
  {
   "cell_type": "code",
   "execution_count": null,
   "metadata": {},
   "outputs": [],
   "source": [
    "# Preprocess images and extract features for each condition\n",
    "normal_images, normal_labels = preprocess_images(normal_dir, 'Normal', target_size)\n",
    "atelectasis_images, atelectasis_labels = preprocess_images(atelectasis_dir, 'Atelectasis', target_size)\n",
    "pneumonia_images, pneumonia_labels = preprocess_images(pneumonia_dir, 'Pneumonia', target_size)\n",
    "\n",
    "# Combine data from all conditions\n",
    "X = np.array(normal_images + atelectasis_images + pneumonia_images)\n",
    "y = np.array(normal_labels + atelectasis_labels + pneumonia_labels)"
   ]
  },
  {
   "cell_type": "code",
   "execution_count": null,
   "metadata": {},
   "outputs": [],
   "source": [
    "# Map string labels to integer labels\n",
    "label_mapping = {'Normal': 0, 'Atelectasis': 1, 'Pneumonia': 2}\n",
    "y = np.array([label_mapping[label] for label in y])\n",
    "\n",
    "# Convert class labels to one-hot encoded format\n",
    "y = tf.keras.utils.to_categorical(y, num_classes=3)\n",
    "\n",
    "# Splitting data into training and testing sets (70:30 ratio)\n",
    "X_train, X_test, y_train, y_test = train_test_split(X, y, test_size=0.3, random_state=42, stratify=y)"
   ]
  },
  {
   "cell_type": "code",
   "execution_count": null,
   "metadata": {},
   "outputs": [],
   "source": [
    "# Normalize pixel values\n",
    "X_train = X_train / 255.0\n",
    "X_test = X_test / 255.0\n",
    "\n",
    "# Load pre-trained DenseNet121 model\n",
    "base_model = DenseNet121(weights='imagenet', include_top=False, input_shape=(target_size[0], target_size[1], 3))\n",
    "\n",
    "# Add GlobalAveragePooling2D layer\n",
    "x = base_model.output\n",
    "x = GlobalAveragePooling2D()(x)"
   ]
  },
  {
   "cell_type": "code",
   "execution_count": null,
   "metadata": {},
   "outputs": [],
   "source": [
    "# Add Dense layers\n",
    "x = Dense(1024, activation='relu')(x)\n",
    "predictions = Dense(3, activation='softmax')(x)\n",
    "\n",
    "# Combine base model and top layers\n",
    "model = Model(inputs=base_model.input, outputs=predictions)\n",
    "\n",
    "# Compile the model\n",
    "model.compile(optimizer='adam', loss='categorical_crossentropy', metrics=['accuracy'])"
   ]
  },
  {
   "cell_type": "code",
   "execution_count": null,
   "metadata": {},
   "outputs": [],
   "source": [
    "# Train the model\n",
    "model.fit(X_train, y_train, epochs=10, batch_size=32, validation_data=(X_test, y_test))\n",
    "\n",
    "# Evaluate the model\n",
    "y_pred = np.argmax(model.predict(X_test), axis=-1)\n",
    "y_true = np.argmax(y_test, axis=-1)\n",
    "accuracy = accuracy_score(y_true, y_pred)\n",
    "conf_matrix = confusion_matrix(y_true, y_pred)\n",
    "class_report = classification_report(y_true, y_pred, target_names=label_mapping.keys())"
   ]
  },
  {
   "cell_type": "code",
   "execution_count": null,
   "metadata": {},
   "outputs": [],
   "source": [
    "print(\"Accuracy:\", accuracy)"
   ]
  },
  {
   "cell_type": "code",
   "execution_count": null,
   "metadata": {},
   "outputs": [],
   "source": [
    "print(\"Confusion Matrix:\\n\", conf_matrix)"
   ]
  },
  {
   "cell_type": "code",
   "execution_count": null,
   "metadata": {},
   "outputs": [],
   "source": [
    "# Manually input the confusion matrix values\n",
    "# Replace these values with your actual confusion matrix values\n",
    "conf_matrix_values = np.array('Fill the confusion matrix values printed here')\n",
    "\n",
    "# Labels for the confusion matrix\n",
    "labels = ['Normal', 'Atelectasis', 'Pneumonia']\n",
    "\n",
    "# Plot the confusion matrix\n",
    "plt.figure(figsize=(8, 6))\n",
    "sns.heatmap(conf_matrix_values, annot=True, fmt='d', cmap='Blues',\n",
    "            xticklabels=labels,\n",
    "            yticklabels=labels,\n",
    "            annot_kws={\"size\": 16})  # Set font size for annotations\n",
    "plt.title('Confusion Matrix', fontsize=18)  # Set title font size\n",
    "plt.xlabel('Predicted Label', fontsize=14)  # Set x-axis label font size\n",
    "plt.ylabel('True Label', fontsize=14)  # Set y-axis label font size\n",
    "plt.show()"
   ]
  },
  {
   "cell_type": "code",
   "execution_count": null,
   "metadata": {},
   "outputs": [],
   "source": [
    "print(\"Classification Report:\\n\", class_report)"
   ]
  },
  {
   "cell_type": "code",
   "execution_count": null,
   "metadata": {},
   "outputs": [],
   "source": [
    "# Display random images with predicted and true outcomes in a 5x5 matrix\n",
    "num_images = 10\n",
    "plt.figure(figsize=(15, 15))  # Define the size of the figure\n",
    "\n",
    "for i in range(num_images):\n",
    "    index = random.randint(0, len(X_test) - 1)\n",
    "    img = X_test[index]  # Get the image\n",
    "    true_label = list(label_mapping.keys())[list(label_mapping.values()).index(np.argmax(y_test[index]))]  # Get the true label\n",
    "    pred_label = list(label_mapping.keys())[y_pred[index]]  # Get the predicted label\n",
    "\n",
    "    plt.subplot(5, 5, i+1)\n",
    "    plt.imshow(img)\n",
    "    plt.title(f'True Outcome: {true_label}\\nPredicted Outcome: {pred_label}')\n",
    "    plt.axis('off')\n",
    "\n",
    "plt.tight_layout()\n",
    "plt.show()"
   ]
  }
 ],
 "metadata": {
  "kernelspec": {
   "display_name": "Python 3",
   "language": "python",
   "name": "python3"
  },
  "language_info": {
   "name": "python",
   "version": "3.12.0"
  }
 },
 "nbformat": 4,
 "nbformat_minor": 2
}

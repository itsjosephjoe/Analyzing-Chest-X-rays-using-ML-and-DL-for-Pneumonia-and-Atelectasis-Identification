{
 "cells": [
  {
   "cell_type": "code",
   "execution_count": null,
   "metadata": {},
   "outputs": [],
   "source": [
    "import os\n",
    "import cv2\n",
    "import numpy as np\n",
    "import tensorflow as tf\n",
    "import matplotlib.pyplot as plt\n",
    "import random\n",
    "from sklearn.preprocessing import StandardScaler\n",
    "from sklearn.model_selection import train_test_split\n",
    "from sklearn.metrics import accuracy_score, confusion_matrix, classification_report\n",
    "from sklearn.svm import SVC\n",
    "import seaborn as sns"
   ]
  },
  {
   "cell_type": "code",
   "execution_count": null,
   "metadata": {},
   "outputs": [],
   "source": [
    "# Function to preprocess images\n",
    "def preprocess_images(directory, condition, target_size):\n",
    "    images = []\n",
    "    labels = []\n",
    "    for filename in os.listdir(directory):\n",
    "        if filename.lower().endswith(('.jpg', '.jpeg', '.png')):\n",
    "            img_path = os.path.join(directory, filename)\n",
    "            img = cv2.imread(img_path)\n",
    "            img = cv2.cvtColor(img, cv2.COLOR_BGR2RGB)  # Convert image to RGB format\n",
    "            img = cv2.resize(img, target_size)\n",
    "            images.append(img)\n",
    "            labels.append(condition)\n",
    "    return images, labels"
   ]
  },
  {
   "cell_type": "code",
   "execution_count": null,
   "metadata": {},
   "outputs": [],
   "source": [
    "# Specify the directories for each condition\n",
    "normal_dir = 'Path to Normal file'\n",
    "atelectasis_dir = 'Path to Atelectasis file'\n",
    "pneumonia_dir = 'Path to Pneumonia file'\n",
    "\n",
    "# Specify the target size for resizing\n",
    "target_size = (224, 224)  # DenseNet input size"
   ]
  },
  {
   "cell_type": "code",
   "execution_count": null,
   "metadata": {},
   "outputs": [],
   "source": [
    "# Preprocess images and extract features for each condition\n",
    "normal_images, normal_labels = preprocess_images(normal_dir, 'Normal', target_size)\n",
    "atelectasis_images, atelectasis_labels = preprocess_images(atelectasis_dir, 'Atelectasis', target_size)\n",
    "pneumonia_images, pneumonia_labels = preprocess_images(pneumonia_dir, 'Pneumonia', target_size)\n",
    "\n",
    "# Combine data from all conditions\n",
    "X = np.array(normal_images + atelectasis_images + pneumonia_images)\n",
    "y = np.array(normal_labels + atelectasis_labels + pneumonia_labels)"
   ]
  },
  {
   "cell_type": "code",
   "execution_count": null,
   "metadata": {},
   "outputs": [],
   "source": [
    "# Map string labels to integer labels\n",
    "label_mapping = {'Normal': 0, 'Atelectasis': 1, 'Pneumonia': 2}\n",
    "y = np.array([label_mapping[label] for label in y])\n",
    "\n",
    "# Flatten images\n",
    "X = X.reshape(X.shape[0], -1)\n",
    "\n",
    "# Splitting data into training and testing sets (70:30 ratio)\n",
    "X_train, X_test, y_train, y_test = train_test_split(X, y, test_size=0.3, random_state=42, stratify=y)"
   ]
  },
  {
   "cell_type": "code",
   "execution_count": null,
   "metadata": {},
   "outputs": [],
   "source": [
    "# Normalize pixel values\n",
    "scaler = StandardScaler()\n",
    "X_train = scaler.fit_transform(X_train)\n",
    "X_test = scaler.transform(X_test)\n",
    "\n",
    "# Train the SVM model\n",
    "svm_model = SVC(kernel='linear', C=1.0, random_state=42)\n",
    "svm_model.fit(X_train, y_train)\n",
    "\n",
    "# Predictions\n",
    "y_pred = svm_model.predict(X_test)\n",
    "\n",
    "# Evaluate the model\n",
    "accuracy = accuracy_score(y_test, y_pred)\n",
    "conf_matrix = confusion_matrix(y_test, y_pred)\n",
    "class_report = classification_report(y_test, y_pred, target_names=label_mapping.keys())"
   ]
  },
  {
   "cell_type": "code",
   "execution_count": null,
   "metadata": {},
   "outputs": [],
   "source": [
    "print(\"Accuracy:\", accuracy)"
   ]
  },
  {
   "cell_type": "code",
   "execution_count": null,
   "metadata": {},
   "outputs": [],
   "source": [
    "print(\"Confusion Matrix:\\n\", conf_matrix)"
   ]
  },
  {
   "cell_type": "code",
   "execution_count": null,
   "metadata": {},
   "outputs": [],
   "source": [
    "# Manually input the confusion matrix values\n",
    "# Replace these values with your actual confusion matrix values\n",
    "conf_matrix_values = np.array('Fill the confusion matrix values printed here')\n",
    "\n",
    "# Labels for the confusion matrix\n",
    "labels = ['Normal', 'Atelectasis', 'Pneumonia']\n",
    "\n",
    "# Plot the confusion matrix\n",
    "plt.figure(figsize=(8, 6))\n",
    "sns.heatmap(conf_matrix_values, annot=True, fmt='d', cmap='Blues',\n",
    "            xticklabels=labels,\n",
    "            yticklabels=labels,\n",
    "            annot_kws={\"size\": 16})  # Set font size for annotations\n",
    "plt.title('Confusion Matrix', fontsize=18)  # Set title font size\n",
    "plt.xlabel('Predicted Label', fontsize=14)  # Set x-axis label font size\n",
    "plt.ylabel('True Label', fontsize=14)  # Set y-axis label font size\n",
    "plt.show()"
   ]
  },
  {
   "cell_type": "code",
   "execution_count": null,
   "metadata": {},
   "outputs": [],
   "source": [
    "print(\"Classification Report:\\n\", class_report)"
   ]
  },
  {
   "cell_type": "code",
   "execution_count": null,
   "metadata": {},
   "outputs": [],
   "source": [
    "print(\"Data type of y_test:\", y_test.dtype)\n",
    "print(\"Unique labels in y_test:\", np.unique(y_test))"
   ]
  },
  {
   "cell_type": "code",
   "execution_count": null,
   "metadata": {},
   "outputs": [],
   "source": [
    "# Display random images with predicted and true outcomes in a 5x5 matrix\n",
    "num_images = 10\n",
    "plt.figure(figsize=(15, 15))  # Define the size of the figure\n",
    "\n",
    "for i in range(num_images):\n",
    "    index = random.randint(0, len(X_test) - 1)\n",
    "    img = X_test[index].reshape(target_size[0], target_size[1], 3)  # Reshape the flattened image to original shape\n",
    "    true_label_index = y_test[index]  # Get the true label index directly from y_test\n",
    "    true_label = list(label_mapping.keys())[int(true_label_index)]  # Convert the true label index to the true label\n",
    "    pred_label = list(label_mapping.keys())[y_pred[index]]  # Get the predicted label\n",
    "\n",
    "    plt.subplot(5, 5, i+1)\n",
    "    plt.imshow(img)\n",
    "    plt.title(f'True Outcome: {true_label}\\nPredicted Outcome: {pred_label}')\n",
    "    plt.axis('off')\n",
    "\n",
    "plt.tight_layout()\n",
    "plt.show()"
   ]
  }
 ],
 "metadata": {
  "kernelspec": {
   "display_name": "Python 3",
   "language": "python",
   "name": "python3"
  },
  "language_info": {
   "name": "python",
   "version": "3.12.0"
  }
 },
 "nbformat": 4,
 "nbformat_minor": 2
}
